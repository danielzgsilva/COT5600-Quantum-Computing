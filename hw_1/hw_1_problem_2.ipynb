{
  "nbformat": 4,
  "nbformat_minor": 0,
  "metadata": {
    "colab": {
      "name": "hw_1_problem_2.ipynb",
      "provenance": [],
      "collapsed_sections": []
    },
    "kernelspec": {
      "name": "python3",
      "display_name": "Python 3"
    }
  },
  "cells": [
    {
      "cell_type": "markdown",
      "metadata": {
        "id": "sGf-nYo10Klf",
        "colab_type": "text"
      },
      "source": [
        "## HW 1 ##"
      ]
    },
    {
      "cell_type": "code",
      "metadata": {
        "id": "cAyYYdf23Cfl",
        "colab_type": "code",
        "colab": {}
      },
      "source": [
        "import numpy as np\n",
        "from scipy import linalg\n",
        "import random"
      ],
      "execution_count": 0,
      "outputs": []
    },
    {
      "cell_type": "markdown",
      "metadata": {
        "id": "dO_S4Lfp2ikH",
        "colab_type": "text"
      },
      "source": [
        "### Problem 2 ###"
      ]
    },
    {
      "cell_type": "markdown",
      "metadata": {
        "id": "G0vOp72N8Ir9",
        "colab_type": "text"
      },
      "source": [
        "**Some definitions**"
      ]
    },
    {
      "cell_type": "markdown",
      "metadata": {
        "id": "tpAherNO2k0W",
        "colab_type": "text"
      },
      "source": [
        "Let \n",
        "\n",
        "$$M\\in\\mathbb{R}^{n\\times n}$$ be an arbitrary matrix.  \n",
        "\n",
        "Let $$p(x)=a_0 + a_1 x + a_2 x^2 + \\ldots + a_n x^n \\in\\mathbb{R}[x]$$ be an arbitrary polynomial of less or equal to $n$.\n",
        "\n",
        "The above polynomial can be used to define a matrix function that takes matrices as input and outputs matrices as follows: \n",
        "\n",
        "$$p(M) = a_0 I + a_1 M + \\ldots + a_n M^n,$$ \n",
        "\n",
        "that is, each monomial $x^k$ is substituted by the corresponding matrix power $M^k$.\n",
        "\n",
        "We say that a polynomial $p(x)$ annihilates a matrix $M\\in\\mathbb{R}^{n\\times n}$ iff $p(M)=\\boldsymbol{0}$, where $\\boldsymbol{0}$ is the zero matrix."
      ]
    },
    {
      "cell_type": "markdown",
      "metadata": {
        "id": "VqlwG3yO6eGm",
        "colab_type": "text"
      },
      "source": [
        "**Task**"
      ]
    },
    {
      "cell_type": "markdown",
      "metadata": {
        "id": "n4ltay5l26H-",
        "colab_type": "text"
      },
      "source": [
        "The task is to write a function ```annihilate_poly``` that takes as input an arbitrary square numpy array $M$ and outputs a vector whose cofficients are the coefficients of a (non-trivial) polynomial that annihilates $M$.  One-trivial means that its is not the zero polynomial which maps every matrix to the zero matrix."
      ]
    },
    {
      "cell_type": "markdown",
      "metadata": {
        "id": "F5jLtN6i6kr2",
        "colab_type": "text"
      },
      "source": [
        "**Hint**"
      ]
    },
    {
      "cell_type": "markdown",
      "metadata": {
        "id": "gX0wbu8z3eDu",
        "colab_type": "text"
      },
      "source": [
        "You can reduce the problem to finding a linear dependance relationship between the $n+1$ vectors \n",
        "\n",
        "$$\\mathrm{vec}(I), \\mathrm{vec}(M), \\mathrm{vec}(M^2),\\ldots,\\mathrm{vec}(M^n)\\in\\mathrm{R}^{n^2}.$$\n",
        "\n"
      ]
    },
    {
      "cell_type": "markdown",
      "metadata": {
        "id": "n3SRuDOi5DLH",
        "colab_type": "text"
      },
      "source": [
        "The operation $\\mathrm{vec}$ turns a square matrix $M\\in\\mathbb{R}^{n\\times n}$ into a vector $v\\in\\mathbb{R}^{n^2}$ by first listing the entries of the first row, then those of the second row etc."
      ]
    },
    {
      "cell_type": "markdown",
      "metadata": {
        "id": "KXdlDLbQ7lHm",
        "colab_type": "text"
      },
      "source": [
        "Update: \n",
        "\n",
        "To solve this problem, you have to compute the null space of the matrix $A\\in \\mathbb{R}^{n^2\\times (n+1)}$ whose columns are the vectors $\\mathrm{vec}(M^k)$ for $k\\in\\{0,\\ldots,n\\}$.\n",
        "\n",
        "\n",
        "(This is not needed: \n",
        "\n",
        "If you don't remeber how to compute the find a linear dependance relationship, check out this stackoverflow post: https://math.stackexchange.com/questions/2198960/finding-linear-dependence-relation\n",
        "\n",
        "You can use https://docs.scipy.org/doc/numpy/reference/generated/numpy.linalg.solve.html to solve the resulting matrix equation.)"
      ]
    },
    {
      "cell_type": "code",
      "metadata": {
        "id": "29Vcaxq6SdmL",
        "colab_type": "code",
        "colab": {}
      },
      "source": [
        "def annihilate_poly(M):\n",
        "  '''\n",
        "  Return a basis for all the vectors whose coefficients form a non-trivial polynomial that annihilate the matrix M\n",
        "  '''\n",
        "\n",
        "  M = np.matrix(M)\n",
        "\n",
        "  # Check that M is a square matrix\n",
        "  if M.shape[0] != M.shape[1]:\n",
        "    raise ValueError('Not a square matrix')\n",
        "\n",
        "  n = M.shape[0]\n",
        "\n",
        "  # Build matrix A, whose columns are the vectors vec(M^k) for 0 <= k <= n\n",
        "  A = np.empty((n**2, n+1), dtype=int)\n",
        "  for i in range(n+1):\n",
        "    col = (M**i).reshape((n**2,))\n",
        "    A[:, i] = col\n",
        "\n",
        "  # This will return a basis for the null space of A\n",
        "  # From this, we could constuct an infinite number of annihilating polynomials\n",
        "  ps = linalg.null_space(A)\n",
        "\n",
        "  # However, we only need a single annihilating polynomial\n",
        "  # Since any of the vectors from this basis will form annihilating polynomials, I can simply return any of the vectors \n",
        "  \n",
        "  # Randomly choose a vector from the basis and return it\n",
        "  rand = random.randint(0, ps.shape[1]-1)\n",
        "  return ps[:, rand]"
      ],
      "execution_count": 0,
      "outputs": []
    },
    {
      "cell_type": "markdown",
      "metadata": {
        "id": "k5YlolabYJxR",
        "colab_type": "text"
      },
      "source": [
        "Below I will demonstrate that my function can successfully find annihilating polynomials"
      ]
    },
    {
      "cell_type": "code",
      "metadata": {
        "id": "NHhXvSO23q7K",
        "colab_type": "code",
        "colab": {
          "base_uri": "https://localhost:8080/",
          "height": 136
        },
        "outputId": "7df2f32b-0ab6-4728-e343-ff035b980bdd"
      },
      "source": [
        "M = np.matrix([[1,0], [0,1]])\n",
        "print('M:')\n",
        "print(M)\n",
        "print()\n",
        "\n",
        "p = annihilate_poly(M)\n",
        "print('Annihilating polynomial coefficients:')\n",
        "print(p)\n",
        "print()"
      ],
      "execution_count": 5,
      "outputs": [
        {
          "output_type": "stream",
          "text": [
            "M:\n",
            "[[1 0]\n",
            " [0 1]]\n",
            "\n",
            "Annihilating polynomial coefficients:\n",
            "[ 0.         -0.70710678  0.70710678]\n",
            "\n"
          ],
          "name": "stdout"
        }
      ]
    },
    {
      "cell_type": "markdown",
      "metadata": {
        "id": "mcpwR1T2gs7L",
        "colab_type": "text"
      },
      "source": [
        "To prove my function is outputting annihilating polynomials, I create a function which plugs in matrix M into the polynomial and checks whether the result is equal to the zero matrix."
      ]
    },
    {
      "cell_type": "code",
      "metadata": {
        "id": "SJH7O2s-3Hda",
        "colab_type": "code",
        "colab": {}
      },
      "source": [
        "def check_annihilates(M, p):\n",
        "  '''\n",
        "  Checks whether a polynomial p annihilates the matrix M\n",
        "  '''\n",
        "\n",
        "  result = 0\n",
        "\n",
        "  # Creating a string to represent the polynomial\n",
        "  polynomial = 'p(x) = '\n",
        "\n",
        "  # Plug matrix M into p\n",
        "  for i, coef in enumerate(p):\n",
        "    result += coef * (M**i)\n",
        "\n",
        "    # Forming the polynomial string \n",
        "    symbol = ' + ' if coef >= 0 else ' - '\n",
        "    str_coef = str(coef).strip('-')\n",
        "    polynomial += '{}{}x^{}'.format(symbol, str_coef, i) if i != 0 else '{}x^{}'.format(coef, i)\n",
        "  \n",
        "  # Check whether the result is equal to the zero matrix\n",
        "  if np.array_equal(np.round(result, 5), np.zeros_like(result)):\n",
        "    print('Success! {} is an annihilating polynomial \\n'.format(polynomial))\n",
        "  else:\n",
        "    print('Failure! {} is not an annihilating polynomial \\n'.format(polynomial))"
      ],
      "execution_count": 0,
      "outputs": []
    },
    {
      "cell_type": "code",
      "metadata": {
        "id": "BarnVpEV3xNH",
        "colab_type": "code",
        "colab": {
          "base_uri": "https://localhost:8080/",
          "height": 51
        },
        "outputId": "edcaf51a-c5cf-4316-d1df-b2dd6a3dd2d9"
      },
      "source": [
        "check_annihilates(M, p)"
      ],
      "execution_count": 7,
      "outputs": [
        {
          "output_type": "stream",
          "text": [
            "Success! p(x) = 0.0x^0 - 0.7071067811865475x^1 + 0.7071067811865476x^2 is an annihilating polynomial \n",
            "\n"
          ],
          "name": "stdout"
        }
      ]
    },
    {
      "cell_type": "markdown",
      "metadata": {
        "id": "RnGLUQlGh4bx",
        "colab_type": "text"
      },
      "source": [
        "To ensure my function works properly, I will now generate a random matrix and use my function to generate an annihilating polynomial, then prove it is correct."
      ]
    },
    {
      "cell_type": "code",
      "metadata": {
        "id": "IA9p97_hh8ar",
        "colab_type": "code",
        "colab": {
          "base_uri": "https://localhost:8080/",
          "height": 238
        },
        "outputId": "b8ad156e-a313-4ca0-a19c-b985805fe0a4"
      },
      "source": [
        "# Generate a random square matrix, anywhere from shape (1,1) to (7,7)\n",
        "n = random.randint(1,7)\n",
        "M = np.matrix([np.random.randint(10, size = n) for _ in range(n)])\n",
        "print('M:')\n",
        "print(M)\n",
        "print()\n",
        "\n",
        "# Find annihilating polynomial\n",
        "p = annihilate_poly(M)\n",
        "print('Annihilating polynomial coefficients:')\n",
        "print(p)\n",
        "print()\n",
        "\n",
        "check_annihilates(M, p)"
      ],
      "execution_count": 8,
      "outputs": [
        {
          "output_type": "stream",
          "text": [
            "M:\n",
            "[[2 9 9 3 1]\n",
            " [4 7 0 2 7]\n",
            " [0 7 9 6 7]\n",
            " [3 4 2 9 1]\n",
            " [3 9 6 8 3]]\n",
            "\n",
            "Annihilating polynomial coefficients:\n",
            "[-9.30624693e-01  3.64086909e-01  2.08712241e-03 -3.64086909e-02\n",
            "  6.95707470e-03 -2.31902490e-04]\n",
            "\n",
            "Success! p(x) = -0.9306246927939937x^0 + 0.36408690945788297x^1 + 0.0020871224109648263x^2 - 0.036408690945250656x^3 + 0.006957074702916784x^4 - 0.00023190249009724662x^5 is an annihilating polynomial \n",
            "\n"
          ],
          "name": "stdout"
        }
      ]
    },
    {
      "cell_type": "markdown",
      "metadata": {
        "id": "je97MuQ981hW",
        "colab_type": "text"
      },
      "source": [
        "**Task**"
      ]
    },
    {
      "cell_type": "markdown",
      "metadata": {
        "id": "H0LgESqW8_7O",
        "colab_type": "text"
      },
      "source": [
        "Write a function ```annihilate_min_deg_poly``` that computes a non-trivial polynomial that annihilates a given square matrix and has the smallest possible degree.  Recall that a polynomial $p(x)$ has degree $d$ if the coefficient $a_{d+1}=\\ldots=a_n=0$."
      ]
    },
    {
      "cell_type": "markdown",
      "metadata": {
        "id": "cr2ZT1TakV-T",
        "colab_type": "text"
      },
      "source": [
        "Recall that my function ```annihilate_poly``` creates a basis for all the vectors whose coefficients form a polynomial that annihilates the matrix M, and then randomly returns one of the vectors from this basis. \n",
        "\n",
        "To find the annihilating polynomial with the smallest degree, rather than choosing a vector directly from the basis, I simply need to leverage this basis to generate the smallest possible degree polynomial. This will require a slight change to my original function."
      ]
    },
    {
      "cell_type": "code",
      "metadata": {
        "id": "chtB2KpKDesb",
        "colab_type": "code",
        "colab": {}
      },
      "source": [
        "def annihilate_min_deg_poly(M):\n",
        "  M = np.matrix(M)\n",
        "\n",
        "  # Check that M is a square matrix\n",
        "  if M.shape[0] != M.shape[1]:\n",
        "    raise ValueError('Not a square matrix')\n",
        "\n",
        "  n = M.shape[0]\n",
        "\n",
        "  # Build matrix A, whose columns are the vectors vec(M^k) for 0 <= k <= n\n",
        "  A = np.empty((n**2, n+1), dtype=int)\n",
        "  for i in range(n+1):\n",
        "    col = (M**i).reshape((n**2,))\n",
        "    A[:, i] = col\n",
        "\n",
        "  # This will return a basis for the null space of A\n",
        "  ps = linalg.null_space(A)\n",
        "\n",
        "  # Construct the smallest possible degree annihilating polynomial from the basis\n",
        "  lowest_degree_p = ps[:, 0]\n",
        "\n",
        "  return lowest_degree_p"
      ],
      "execution_count": 0,
      "outputs": []
    },
    {
      "cell_type": "markdown",
      "metadata": {
        "id": "RprIQ5CnrXV1",
        "colab_type": "text"
      },
      "source": [
        "Testing it out..."
      ]
    },
    {
      "cell_type": "code",
      "metadata": {
        "id": "FA4Ph4FErWbO",
        "colab_type": "code",
        "colab": {
          "base_uri": "https://localhost:8080/",
          "height": 221
        },
        "outputId": "4fd1ddc7-253f-403b-b7cd-75f0527ac7c9"
      },
      "source": [
        "n = random.randint(1,6)\n",
        "M = np.matrix([np.random.randint(10, size = n) for _ in range(n)])\n",
        "M = np.matrix([[1,0], [0,1]])\n",
        "M = np.matrix([[1,2,1,0], [-2,1,0,1], [0,0,1,2], [0,0,-2,1]])\n",
        "print('M:')\n",
        "print(M)\n",
        "print()\n",
        "print(np.poly(M))\n",
        "lowest_degree_p = annihilate_min_deg_poly(M)\n",
        "print('Annihilating polynomial coefficients:')\n",
        "print(lowest_degree_p)\n",
        "print()\n",
        "\n",
        "check_annihilates(M, lowest_degree_p)"
      ],
      "execution_count": 10,
      "outputs": [
        {
          "output_type": "stream",
          "text": [
            "M:\n",
            "[[ 1  2  1  0]\n",
            " [-2  1  0  1]\n",
            " [ 0  0  1  2]\n",
            " [ 0  0 -2  1]]\n",
            "\n",
            "[  1.  -4.  14. -20.  25.]\n",
            "Annihilating polynomial coefficients:\n",
            "[-0.71052553  0.56842042 -0.3978943   0.11368408 -0.02842102]\n",
            "\n",
            "Success! p(x) = -0.7105255285040057x^0 + 0.5684204228032044x^1 - 0.39789429596224307x^2 + 0.11368408456064083x^3 - 0.028421021140160208x^4 is an annihilating polynomial \n",
            "\n"
          ],
          "name": "stdout"
        }
      ]
    },
    {
      "cell_type": "code",
      "metadata": {
        "id": "ma7mBbKb3NYv",
        "colab_type": "code",
        "colab": {}
      },
      "source": [
        ""
      ],
      "execution_count": 0,
      "outputs": []
    }
  ]
}